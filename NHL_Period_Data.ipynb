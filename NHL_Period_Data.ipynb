{
 "cells": [
  {
   "cell_type": "code",
   "execution_count": 13,
   "metadata": {},
   "outputs": [],
   "source": [
    "import csv\n",
    "import numpy as np\n",
    "from sklearn import preprocessing\n",
    "from sklearn.feature_selection import SelectKBest\n",
    "from sklearn.model_selection import train_test_split\n",
    "\n",
    "class NHL_Period_Data:\n",
    "    def __init__(self):\n",
    "        self.data_x, self.data_y = self.__parseData__()\n",
    "        \n",
    "    def __parseData__(self):\n",
    "        data = np.genfromtxt(\"data/periodStats.txt\", delimiter=\",\", dtype=int, skip_header=1)\n",
    "        return data[...,1:-2],data[...,-1]\n",
    "            "
   ]
  },
  {
   "cell_type": "code",
   "execution_count": 14,
   "metadata": {},
   "outputs": [
    {
     "name": "stdout",
     "output_type": "stream",
     "text": [
      "[ 0  7  6  9  5  4  6 15 11  3  4  2  0  6 10  4]\n",
      "len x: 37589\n",
      "1\n",
      "len y: 37589\n"
     ]
    }
   ],
   "source": [
    "data = NHL_Period_Data()"
   ]
  }
 ],
 "metadata": {
  "kernelspec": {
   "display_name": "Python 3",
   "language": "python",
   "name": "python3"
  },
  "language_info": {
   "codemirror_mode": {
    "name": "ipython",
    "version": 3
   },
   "file_extension": ".py",
   "mimetype": "text/x-python",
   "name": "python",
   "nbconvert_exporter": "python",
   "pygments_lexer": "ipython3",
   "version": "3.7.4"
  }
 },
 "nbformat": 4,
 "nbformat_minor": 2
}
