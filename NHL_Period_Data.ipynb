{
 "cells": [
  {
   "cell_type": "code",
   "execution_count": 36,
   "metadata": {},
   "outputs": [],
   "source": [
    "import csv\n",
    "import numpy as np\n",
    "import matplotlib.pyplot as plt\n",
    "from sklearn import preprocessing\n",
    "from sklearn.feature_selection import SelectKBest\n",
    "from sklearn.compose import ColumnTransformer\n",
    "from sklearn.model_selection import train_test_split\n",
    "from sklearn.model_selection import KFold\n",
    "from sklearn.metrics import accuracy_score\n",
    "from sklearn.ensemble import RandomForestClassifier"
   ]
  },
  {
   "cell_type": "code",
   "execution_count": 27,
   "metadata": {},
   "outputs": [],
   "source": [
    "class NHL_Period_Data:\n",
    "    def __init__(self):\n",
    "        self.data_x, self.data_y = self.__parseData__()\n",
    "        \n",
    "    def __parseData__(self):\n",
    "        data = np.genfromtxt(\"data/periodStats.txt\", delimiter=\",\", dtype=int, skip_header=1)\n",
    "        return data[...,1:-2],data[...,-1]\n",
    "    \n",
    "    def transformData(self, encoder=\"StandardScaler\"):\n",
    "        col_tr = ColumnTransformer([(encoder, getattr(preprocessing,encoder)(), list(range(len(self.data_x[0]))))])\n",
    "        col_tr.fit(self.data_x, self.data_y)\n",
    "        self.data_x = col_tr.transform(self.data_x)\n",
    "        \n",
    "    def trainTestSplit(self, split=0.2):\n",
    "        self.train_x, self.test_x, self.train_y, self.test_y = train_test_split(self.data_x, self.data_y, test_size=split)\n",
    "        \n",
    "    def selectKBest(self, k=10):\n",
    "        selector = SelectKBest(k=k).fit(self.train_x, self.train_y)\n",
    "        self.train_x = selector.transform(self.train_x)\n",
    "        self.test_x = selector.transform(self.test_x)"
   ]
  },
  {
   "cell_type": "code",
   "execution_count": 3,
   "metadata": {},
   "outputs": [
    {
     "name": "stdout",
     "output_type": "stream",
     "text": [
      "[ 0  7  6  9  5  4  6 15 11  3  4  2  0  6 10  4]\n",
      "[0.46666667 0.31818182 0.33333333 0.40909091 0.2173913  0.26666667\n",
      " 0.35294118 0.48387097 0.34375    0.2        0.21052632 0.08333333\n",
      " 0.         0.2        0.35714286 0.30769231]\n"
     ]
    }
   ],
   "source": [
    "data = NHL_Period_Data()\n",
    "print(data.data_x[0])\n",
    "data.transformData(\"MinMaxScaler\")\n",
    "print(data.data_x[0])\n",
    "data.trainTestSplit()"
   ]
  },
  {
   "cell_type": "markdown",
   "metadata": {},
   "source": [
    "## KNN Classifier"
   ]
  },
  {
   "cell_type": "code",
   "execution_count": 12,
   "metadata": {},
   "outputs": [
    {
     "name": "stderr",
     "output_type": "stream",
     "text": [
      "/home/brian/anaconda3/lib/python3.7/site-packages/sklearn/model_selection/_split.py:1978: FutureWarning: The default value of cv will change from 3 to 5 in version 0.22. Specify it explicitly to silence this warning.\n",
      "  warnings.warn(CV_WARNING, FutureWarning)\n"
     ]
    },
    {
     "name": "stdout",
     "output_type": "stream",
     "text": [
      "Predicted values: [ 0  0  0 -1  1  0 -1 -1  0  0]\n",
      "Actual Values:    [ 1  0  1  0 -1 -2  1 -1  0 -1]\n",
      "Validation accuracy: 0.3179036977919659\n"
     ]
    }
   ],
   "source": [
    "from sklearn.model_selection import GridSearchCV\n",
    "from sklearn.neighbors import KNeighborsClassifier\n",
    "\n",
    "params = {'n_neighbors':list(range(3,15,2)), 'weights':['uniform','distance'],\n",
    "          'algorithm':['auto', 'ball_tree', 'kd_tree', 'brute'], 'leaf_size':list(range(10,40)),\n",
    "          'p':[1,2], 'n_jobs':[-1]}\n",
    "#knn = KNeighborsClassifier(n_neighbors=7, weights='uniform', algorithm='auto', leaf_size=30,\n",
    "#                           p=2, metric='minkowski', metric_params=None, n_jobs=-1)\n",
    "knn = KNeighborsClassifier()\n",
    "model = GridSearchCV(knn, params)\n",
    "model.fit(data.train_x, data.train_y)\n",
    "pred_vals = model.predict(data.test_x)\n",
    "print(\"Predicted values: \" + str(pred_vals[0:10]))\n",
    "print(\"Actual Values:    \" + str(data.test_y[0:10]))\n",
    "acc = accuracy_score(data.test_y, pred_vals)\n",
    "print(\"Validation accuracy: \" + str(acc))"
   ]
  },
  {
   "cell_type": "code",
   "execution_count": 30,
   "metadata": {},
   "outputs": [],
   "source": [
    "stand_data = NHL_Period_Data()\n",
    "stand_data.transformData()\n",
    "stand_data.trainTestSplit()\n",
    "#stand_data.selectKBest(15)"
   ]
  },
  {
   "cell_type": "code",
   "execution_count": 31,
   "metadata": {
    "scrolled": true
   },
   "outputs": [
    {
     "name": "stdout",
     "output_type": "stream",
     "text": [
      "Acc for leaf_size 8: 0.33160415003990423\n"
     ]
    }
   ],
   "source": [
    "#print(model.best_params_)\n",
    "# {'algorithm': 'auto', 'leaf_size': 20, 'n_jobs': -1, 'n_neighbors': 13, 'p': 2, 'weights': 'distance'}\n",
    "\n",
    "best_knn = KNeighborsClassifier(n_neighbors=13, weights='distance', algorithm='auto', leaf_size=8,\n",
    "                                p=2, n_jobs=-1)\n",
    "best_knn.fit(stand_data.train_x, stand_data.train_y)\n",
    "best_pred = best_knn.predict(stand_data.test_x)\n",
    "b_acc = accuracy_score(stand_data.test_y, best_pred)\n",
    "print(\"Acc for leaf_size 8: \" + str(b_acc))"
   ]
  },
  {
   "cell_type": "code",
   "execution_count": 33,
   "metadata": {},
   "outputs": [
    {
     "name": "stdout",
     "output_type": "stream",
     "text": [
      "Acc for 16 features: 0.33160415003990423\n",
      "Acc for 15 features: 0.3187017823889332\n",
      "Acc for 14 features: 0.31670657089651505\n",
      "Acc for 13 features: 0.3163075285980314\n",
      "Acc for 12 features: 0.31683958499600956\n",
      "Acc for 11 features: 0.31683958499600956\n",
      "Acc for 10 features: 0.3120510774142059\n",
      "Acc for 9 features: 0.30274009044958766\n",
      "Acc for 8 features: 0.3026070763500931\n",
      "Acc for 7 features: 0.3055333865389731\n",
      "Acc for 6 features: 0.30593242883745675\n",
      "Acc for 5 features: 0.28757648310720935\n",
      "Acc for 4 features: 0.29755254056930036\n",
      "Acc for 3 features: 0.30207501995211494\n",
      "Acc for 2 features: 0.2870444267092312\n",
      "Acc for 1 features: 0.30061186485767494\n"
     ]
    }
   ],
   "source": [
    "for i in reversed(range(1,17)):\n",
    "    stand_data.selectKBest(i)\n",
    "    best_knn.fit(stand_data.train_x, stand_data.train_y)\n",
    "    best_pred = best_knn.predict(stand_data.test_x)\n",
    "    b_acc = accuracy_score(stand_data.test_y, best_pred)\n",
    "    print(\"Acc for \" + str(i) + \" features: \" + str(b_acc))"
   ]
  },
  {
   "cell_type": "markdown",
   "metadata": {},
   "source": [
    "## Decision Tree Classifier"
   ]
  },
  {
   "cell_type": "code",
   "execution_count": 34,
   "metadata": {},
   "outputs": [],
   "source": [
    "stand_data = NHL_Period_Data()\n",
    "stand_data.transformData()\n",
    "stand_data.trainTestSplit()"
   ]
  },
  {
   "cell_type": "code",
   "execution_count": 38,
   "metadata": {},
   "outputs": [
    {
     "name": "stdout",
     "output_type": "stream",
     "text": [
      "Acc for random forest: 0.3538175046554935\n"
     ]
    }
   ],
   "source": [
    "rf_class = RandomForestClassifier(n_estimators=71,criterion='gini',max_depth=16,min_samples_split=2,\n",
    "                                 min_samples_leaf=1,min_weight_fraction_leaf=0.0,\n",
    "                                 max_features='auto',max_leaf_nodes=61,min_impurity_decrease=0.0)\n",
    "\n",
    "rf_class.fit(stand_data.train_x, stand_data.train_y)\n",
    "rf_pred = rf_class.predict(stand_data.test_x)\n",
    "rf_acc = accuracy_score(stand_data.test_y, rf_pred)\n",
    "print(\"Acc for random forest: \" + str(rf_acc))"
   ]
  }
 ],
 "metadata": {
  "kernelspec": {
   "display_name": "Python 3",
   "language": "python",
   "name": "python3"
  },
  "language_info": {
   "codemirror_mode": {
    "name": "ipython",
    "version": 3
   },
   "file_extension": ".py",
   "mimetype": "text/x-python",
   "name": "python",
   "nbconvert_exporter": "python",
   "pygments_lexer": "ipython3",
   "version": "3.7.4"
  }
 },
 "nbformat": 4,
 "nbformat_minor": 2
}
