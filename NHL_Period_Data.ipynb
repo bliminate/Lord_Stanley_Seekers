{
 "cells": [
  {
   "cell_type": "code",
   "execution_count": 6,
   "metadata": {},
   "outputs": [],
   "source": [
    "import csv\n",
    "import numpy as np\n",
    "import matplotlib.pyplot as plt\n",
    "from sklearn import preprocessing\n",
    "from sklearn.feature_selection import SelectKBest\n",
    "from sklearn.compose import ColumnTransformer\n",
    "from sklearn.model_selection import train_test_split\n",
    "from sklearn.model_selection import KFold\n",
    "from sklearn.metrics import accuracy_score\n",
    "from sklearn.ensemble import RandomForestClassifier\n",
    "from collections import Counter\n",
    "from sklearn.model_selection import GridSearchCV"
   ]
  },
  {
   "cell_type": "code",
   "execution_count": 129,
   "metadata": {},
   "outputs": [],
   "source": [
    "class NHL_Period_Data:\n",
    "    def __init__(self):\n",
    "        self.data_x, self.data_y = self.__parseData__()\n",
    "        self.train_x = None\n",
    "        self.train_y = None\n",
    "        self.test_x = None\n",
    "        self.test_y = None\n",
    "        \n",
    "    def __parseData__(self):\n",
    "        data = np.genfromtxt(\"data/periodStats.txt\", delimiter=\",\", dtype=int, skip_header=1)\n",
    "        return data[...,0:-2],data[...,-1]\n",
    "    \n",
    "    def transformData(self, encoder=\"StandardScaler\"):\n",
    "        cols = list(range(len(self.data_x[0])))\n",
    "        col_tr = ColumnTransformer([(encoder, getattr(preprocessing,encoder)(),cols)])\n",
    "        col_tr.fit(self.data_x, self.data_y)\n",
    "        self.data_x = col_tr.transform(self.data_x)\n",
    "    \n",
    "    def transformPeriodData(self, encoder=\"StandardScaler\"):\n",
    "        for data_x, data_y in zip([self.p1_data_x,self.p2_data_x,self.p3_data_x,self.pOT_data_x],\n",
    "                                  [self.p1_data_y,self.p2_data_y,self.p3_data_y,self.pOT_data_y]):            \n",
    "            cols = list(range(len(data_x[0])))\n",
    "            col_tr = ColumnTransformer([(encoder, getattr(preprocessing,encoder)(),cols)])\n",
    "            col_tr.fit(data_x, data_y)\n",
    "            data_x = col_tr.transform(data_x)\n",
    "        \n",
    "    def trainTestSplit(self, split=0.2, period=None):\n",
    "        if period == 1:\n",
    "            data_x = self.p1_data_x\n",
    "            data_y = self.p1_data_y\n",
    "        elif period == 2:\n",
    "            data_x = self.p2_data_x\n",
    "            data_y = self.p2_data_y\n",
    "        elif period == 3:\n",
    "            data_x = self.p3_data_x\n",
    "            data_y = self.p3_data_y\n",
    "        elif period == 4:\n",
    "            data_x = self.pOT_data_x\n",
    "            data_y = self.pOT_data_y\n",
    "        elif period is None:\n",
    "            data_x = self.data_x[...,1:]\n",
    "            data_y = self.data_y\n",
    "        self.train_x,self.test_x,self.train_y,self.test_y = train_test_split(data_x, data_y, test_size=split)\n",
    "        \n",
    "    def selectKBest(self, k=10):\n",
    "        selector = SelectKBest(k=k).fit(self.train_x, self.train_y)\n",
    "        self.train_x = selector.transform(self.train_x)\n",
    "        self.test_x = selector.transform(self.test_x)\n",
    "        \n",
    "    def binScores(self):\n",
    "        if self.train_y is not None:\n",
    "            self.train_y = np.where(self.train_y > 4, 4, self.train_y)\n",
    "            self.train_y = np.where(self.train_y < -4, -4, self.train_y)\n",
    "            self.test_y = np.where(self.test_y > 4, 4, self.test_y)\n",
    "            self.test_y = np.where(self.test_y < -4, -4, self.test_y)\n",
    "        else:\n",
    "            self.data_y = np.where(self.data_y > 4, 4, self.data_y)\n",
    "            self.data_y = np.where(self.data_y < -4, -4, self.data_y)\n",
    "    \n",
    "    def splitByPeriod(self):\n",
    "        p1x = []\n",
    "        p2x = []\n",
    "        p3x = []\n",
    "        pox = []\n",
    "        p1y = []\n",
    "        p2y = []\n",
    "        p3y = []\n",
    "        poy = []\n",
    "        for i,x in enumerate(self.data_x):\n",
    "            p = x[0]%10\n",
    "            y = self.data_y[i]\n",
    "            if p == 1:\n",
    "                p1x.append(x[1:])\n",
    "                p1y.append(y)\n",
    "            elif p == 2:\n",
    "                p2x.append(x[1:])\n",
    "                p2y.append(y)\n",
    "            elif p == 3:\n",
    "                p3x.append(x[1:])\n",
    "                p3y.append(y)\n",
    "            else:\n",
    "                pox.append(x[1:])\n",
    "                poy.append(y)\n",
    "                \n",
    "        self.p1_data_x = np.array(p1x)\n",
    "        self.p1_data_y = np.array(p1y)\n",
    "        self.p2_data_x = np.array(p2x)\n",
    "        self.p2_data_y = np.array(p2y)\n",
    "        self.p3_data_x = np.array(p3x)\n",
    "        self.p3_data_y = np.array(p3y)\n",
    "        self.pOT_data_x = np.array(pox)\n",
    "        self.pOT_data_y = np.array(poy)"
   ]
  },
  {
   "cell_type": "code",
   "execution_count": 89,
   "metadata": {},
   "outputs": [
    {
     "name": "stdout",
     "output_type": "stream",
     "text": [
      "[ 0  9  2  7 11  0  5 14 11  2  1  1  0  2 12  2]\n",
      "[-2  6  5 10  7  4  7 13 10  3  1  0  0  6 11  3]\n",
      "[-2  6  0  8  8  3  1  9  7  0  6  0  0  8  9  3]\n",
      "3857\n",
      "[0 0 2 0 1 0 0 5 0 2 0 0 0 3 0 2]\n"
     ]
    }
   ],
   "source": [
    "testD = NHL_Period_Data()\n",
    "testD.splitByPeriod()\n",
    "print(testD.p1_data_x[11243])\n",
    "print(testD.p2_data_x[11243])\n",
    "print(testD.p3_data_x[11243])\n",
    "print(len(testD.pOT_data_x))\n",
    "print(testD.pOT_data_x[3856])"
   ]
  },
  {
   "cell_type": "code",
   "execution_count": 3,
   "metadata": {},
   "outputs": [
    {
     "name": "stdout",
     "output_type": "stream",
     "text": [
      "[ 0  7  6  9  5  4  6 15 11  3  4  2  0  6 10  4]\n",
      "[0.46666667 0.31818182 0.33333333 0.40909091 0.2173913  0.26666667\n",
      " 0.35294118 0.48387097 0.34375    0.2        0.21052632 0.08333333\n",
      " 0.         0.2        0.35714286 0.30769231]\n"
     ]
    }
   ],
   "source": [
    "data = NHL_Period_Data()\n",
    "print(data.data_x[0])\n",
    "data.transformData(\"MinMaxScaler\")\n",
    "print(data.data_x[0])\n",
    "data.trainTestSplit()"
   ]
  },
  {
   "cell_type": "markdown",
   "metadata": {},
   "source": [
    "## KNN Classifier"
   ]
  },
  {
   "cell_type": "code",
   "execution_count": 12,
   "metadata": {},
   "outputs": [
    {
     "name": "stderr",
     "output_type": "stream",
     "text": [
      "/home/brian/anaconda3/lib/python3.7/site-packages/sklearn/model_selection/_split.py:1978: FutureWarning: The default value of cv will change from 3 to 5 in version 0.22. Specify it explicitly to silence this warning.\n",
      "  warnings.warn(CV_WARNING, FutureWarning)\n"
     ]
    },
    {
     "name": "stdout",
     "output_type": "stream",
     "text": [
      "Predicted values: [ 0  0  0 -1  1  0 -1 -1  0  0]\n",
      "Actual Values:    [ 1  0  1  0 -1 -2  1 -1  0 -1]\n",
      "Validation accuracy: 0.3179036977919659\n"
     ]
    }
   ],
   "source": [
    "from sklearn.neighbors import KNeighborsClassifier\n",
    "\n",
    "params = {'n_neighbors':list(range(3,15,2)), 'weights':['uniform','distance'],\n",
    "          'algorithm':['auto', 'ball_tree', 'kd_tree', 'brute'], 'leaf_size':list(range(10,40)),\n",
    "          'p':[1,2], 'n_jobs':[-1]}\n",
    "#knn = KNeighborsClassifier(n_neighbors=7, weights='uniform', algorithm='auto', leaf_size=30,\n",
    "#                           p=2, metric='minkowski', metric_params=None, n_jobs=-1)\n",
    "knn = KNeighborsClassifier()\n",
    "model = GridSearchCV(knn, params)\n",
    "model.fit(data.train_x, data.train_y)\n",
    "pred_vals = model.predict(data.test_x)\n",
    "print(\"Predicted values: \" + str(pred_vals[0:10]))\n",
    "print(\"Actual Values:    \" + str(data.test_y[0:10]))\n",
    "acc = accuracy_score(data.test_y, pred_vals)\n",
    "print(\"Validation accuracy: \" + str(acc))"
   ]
  },
  {
   "cell_type": "code",
   "execution_count": 30,
   "metadata": {},
   "outputs": [],
   "source": [
    "stand_data = NHL_Period_Data()\n",
    "stand_data.transformData()\n",
    "stand_data.trainTestSplit()\n",
    "#stand_data.selectKBest(15)"
   ]
  },
  {
   "cell_type": "code",
   "execution_count": 31,
   "metadata": {
    "scrolled": true
   },
   "outputs": [
    {
     "name": "stdout",
     "output_type": "stream",
     "text": [
      "Acc for leaf_size 8: 0.33160415003990423\n"
     ]
    }
   ],
   "source": [
    "#print(model.best_params_)\n",
    "# {'algorithm': 'auto', 'leaf_size': 20, 'n_jobs': -1, 'n_neighbors': 13, 'p': 2, 'weights': 'distance'}\n",
    "\n",
    "best_knn = KNeighborsClassifier(n_neighbors=13, weights='distance', algorithm='auto', leaf_size=8,\n",
    "                                p=2, n_jobs=-1)\n",
    "best_knn.fit(stand_data.train_x, stand_data.train_y)\n",
    "best_pred = best_knn.predict(stand_data.test_x)\n",
    "b_acc = accuracy_score(stand_data.test_y, best_pred)\n",
    "print(\"Acc for leaf_size 8: \" + str(b_acc))"
   ]
  },
  {
   "cell_type": "code",
   "execution_count": 33,
   "metadata": {},
   "outputs": [
    {
     "name": "stdout",
     "output_type": "stream",
     "text": [
      "Acc for 16 features: 0.33160415003990423\n",
      "Acc for 15 features: 0.3187017823889332\n",
      "Acc for 14 features: 0.31670657089651505\n",
      "Acc for 13 features: 0.3163075285980314\n",
      "Acc for 12 features: 0.31683958499600956\n",
      "Acc for 11 features: 0.31683958499600956\n",
      "Acc for 10 features: 0.3120510774142059\n",
      "Acc for 9 features: 0.30274009044958766\n",
      "Acc for 8 features: 0.3026070763500931\n",
      "Acc for 7 features: 0.3055333865389731\n",
      "Acc for 6 features: 0.30593242883745675\n",
      "Acc for 5 features: 0.28757648310720935\n",
      "Acc for 4 features: 0.29755254056930036\n",
      "Acc for 3 features: 0.30207501995211494\n",
      "Acc for 2 features: 0.2870444267092312\n",
      "Acc for 1 features: 0.30061186485767494\n"
     ]
    }
   ],
   "source": [
    "for i in reversed(range(1,17)):\n",
    "    stand_data.selectKBest(i)\n",
    "    best_knn.fit(stand_data.train_x, stand_data.train_y)\n",
    "    best_pred = best_knn.predict(stand_data.test_x)\n",
    "    b_acc = accuracy_score(stand_data.test_y, best_pred)\n",
    "    print(\"Acc for \" + str(i) + \" features: \" + str(b_acc))"
   ]
  },
  {
   "cell_type": "markdown",
   "metadata": {},
   "source": [
    "## Random Forest Classifier"
   ]
  },
  {
   "cell_type": "code",
   "execution_count": 82,
   "metadata": {},
   "outputs": [],
   "source": [
    "stand_data = NHL_Period_Data()\n",
    "stand_data.transformData(\"MinMaxScaler\")\n",
    "stand_data.trainTestSplit()\n",
    "stand_data.binScores()"
   ]
  },
  {
   "cell_type": "code",
   "execution_count": 44,
   "metadata": {},
   "outputs": [
    {
     "name": "stdout",
     "output_type": "stream",
     "text": [
      "Acc for random forest: 0.36179835062516624\n"
     ]
    }
   ],
   "source": [
    "rf_class = RandomForestClassifier(n_estimators=71,criterion='gini',max_depth=16,min_samples_split=2,\n",
    "                                 min_samples_leaf=1,min_weight_fraction_leaf=0.0,\n",
    "                                 max_features='auto',max_leaf_nodes=61,min_impurity_decrease=0.0)\n",
    "\n",
    "rf_class.fit(stand_data.train_x, stand_data.train_y)\n",
    "rf_pred = rf_class.predict(stand_data.test_x)\n",
    "rf_acc = accuracy_score(stand_data.test_y, rf_pred)\n",
    "print(\"Acc for random forest: \" + str(rf_acc))"
   ]
  },
  {
   "cell_type": "code",
   "execution_count": 70,
   "metadata": {},
   "outputs": [
    {
     "data": {
      "image/png": "[encoded data removed]",
      "text/plain": [
       "<Figure size 432x288 with 1 Axes>"
      ]
     },
     "metadata": {
      "needs_background": "light"
     },
     "output_type": "display_data"
    },
    {
     "name": "stdout",
     "output_type": "stream",
     "text": [
      "Counter({0: 9670, 1: 7001, -1: 6708, 2: 2753, -2: 2218, 3: 817, -3: 574, 4: 208, -4: 122})\n"
     ]
    }
   ],
   "source": [
    "plt.hist(stand_data.train_y)\n",
    "plt.show()\n",
    "print(Counter(stand_data.train_y))"
   ]
  },
  {
   "cell_type": "code",
   "execution_count": 9,
   "metadata": {},
   "outputs": [
    {
     "name": "stderr",
     "output_type": "stream",
     "text": [
      "/home/brian/anaconda3/lib/python3.7/site-packages/sklearn/model_selection/_split.py:1978: FutureWarning: The default value of cv will change from 3 to 5 in version 0.22. Specify it explicitly to silence this warning.\n",
      "  warnings.warn(CV_WARNING, FutureWarning)\n"
     ]
    },
    {
     "name": "stdout",
     "output_type": "stream",
     "text": [
      "Best Fit model acc for grid search: 0.3627294493216281\n"
     ]
    }
   ],
   "source": [
    "rf_grid = RandomForestClassifier()\n",
    "rf_params = {'n_estimators':[10,35,50,70,90,150],'max_depth':[None,1,3,8,15,25], \n",
    "             'min_samples_split':[2,5,10]}\n",
    "rf_grid_search = GridSearchCV(rf_grid,rf_params)\n",
    "rf_grid_search.fit(stand_data.train_x, stand_data.train_y)\n",
    "rf_grid_pred = rf_grid_search.predict(stand_data.test_x)\n",
    "rf_grid_acc = accuracy_score(stand_data.test_y, rf_grid_pred)\n",
    "print(\"Best Fit model acc for grid search: \" + str(rf_grid_acc))"
   ]
  },
  {
   "cell_type": "code",
   "execution_count": 14,
   "metadata": {},
   "outputs": [
    {
     "name": "stdout",
     "output_type": "stream",
     "text": [
      "Best Params: {'max_depth': 15, 'min_samples_split': 10, 'n_estimators': 150}\n"
     ]
    }
   ],
   "source": [
    "#Best Params: {'max_depth': 15, 'min_samples_split': 10, 'n_estimators': 90}\n",
    "#Best Params: {'max_depth': 15, 'min_samples_split': 10, 'n_estimators': 150}\n",
    "#Best Fit model acc for grid search: 0.3635275339185954\n",
    "print(\"Best Params: \" + str(rf_grid_search.best_params_))"
   ]
  },
  {
   "cell_type": "code",
   "execution_count": 83,
   "metadata": {},
   "outputs": [
    {
     "name": "stdout",
     "output_type": "stream",
     "text": [
      "Accuracy: 0.3684490555998936\n"
     ]
    }
   ],
   "source": [
    "rf_best = RandomForestClassifier(max_depth=15, min_samples_split=10, n_estimators=150)\n",
    "rf_best.fit(stand_data.train_x, stand_data.train_y)\n",
    "rf_best_pred = rf_best.predict(stand_data.test_x)\n",
    "rf_best_acc = accuracy_score(stand_data.test_y, rf_best_pred)\n",
    "print(\"Accuracy: \" + str(rf_best_acc))"
   ]
  },
  {
   "cell_type": "markdown",
   "metadata": {},
   "source": [
    "## Random Forest by Period"
   ]
  },
  {
   "cell_type": "code",
   "execution_count": 177,
   "metadata": {},
   "outputs": [],
   "source": [
    "periodData = NHL_Period_Data()\n",
    "periodData.binScores()\n",
    "periodData.splitByPeriod()\n",
    "periodData.transformPeriodData(\"MinMaxScaler\")\n",
    "periodData.trainTestSplit(split=0.2, period=1)"
   ]
  },
  {
   "cell_type": "code",
   "execution_count": 178,
   "metadata": {},
   "outputs": [
    {
     "name": "stdout",
     "output_type": "stream",
     "text": [
      "Accuracy: 0.3614939973321476\n"
     ]
    },
    {
     "data": {
      "image/png": "[encoded data removed]",
      "text/plain": [
       "<Figure size 432x288 with 1 Axes>"
      ]
     },
     "metadata": {
      "needs_background": "light"
     },
     "output_type": "display_data"
    }
   ],
   "source": [
    "rf_period1 = RandomForestClassifier(max_depth=15, min_samples_split=10, n_estimators=150)\n",
    "rf_period1.fit(periodData.train_x, periodData.train_y)\n",
    "rf_p1_pred = rf_period1.predict(periodData.test_x)\n",
    "rf_p1_acc = accuracy_score(periodData.test_y, rf_p1_pred)\n",
    "print(\"Accuracy: \" + str(rf_p1_acc))\n",
    "\n",
    "plt.hist(rf_p1_pred, alpha=0.5, label='predicted')\n",
    "plt.hist(periodData.test_y, alpha=0.5, label='actual')\n",
    "plt.legend(loc='best')\n",
    "plt.show()"
   ]
  },
  {
   "cell_type": "code",
   "execution_count": 172,
   "metadata": {},
   "outputs": [
    {
     "name": "stdout",
     "output_type": "stream",
     "text": [
      "Accuracy: 0.3072476656291685\n"
     ]
    },
    {
     "data": {
      "image/png": "[encoded data removed]",
      "text/plain": [
       "<Figure size 432x288 with 1 Axes>"
      ]
     },
     "metadata": {
      "needs_background": "light"
     },
     "output_type": "display_data"
    }
   ],
   "source": [
    "periodData.trainTestSplit(split=0.2, period=2)\n",
    "rf_period2 = RandomForestClassifier(max_depth=15, min_samples_split=10, n_estimators=150)\n",
    "rf_period2.fit(periodData.train_x, periodData.train_y)\n",
    "rf_p2_pred = rf_period2.predict(periodData.test_x)\n",
    "rf_p2_acc = accuracy_score(periodData.test_y, rf_p2_pred)\n",
    "\n",
    "print(\"Accuracy: \" + str(rf_p2_acc))\n",
    "plt.hist(rf_p2_pred, alpha=0.5, label='predicted')\n",
    "plt.hist(periodData.test_y, alpha=0.5, label='actual')\n",
    "plt.legend(loc='best')\n",
    "plt.show()"
   ]
  },
  {
   "cell_type": "code",
   "execution_count": 173,
   "metadata": {},
   "outputs": [
    {
     "name": "stdout",
     "output_type": "stream",
     "text": [
      "Accuracy: 0.341929746554024\n"
     ]
    },
    {
     "data": {
      "image/png": "[encoded data removed]",
      "text/plain": [
       "<Figure size 432x288 with 1 Axes>"
      ]
     },
     "metadata": {
      "needs_background": "light"
     },
     "output_type": "display_data"
    }
   ],
   "source": [
    "periodData.trainTestSplit(split=0.2, period=3)\n",
    "rf_period3 = RandomForestClassifier(max_depth=15, min_samples_split=10, n_estimators=150)\n",
    "rf_period3.fit(periodData.train_x, periodData.train_y)\n",
    "rf_p3_pred = rf_period3.predict(periodData.test_x)\n",
    "rf_p3_acc = accuracy_score(periodData.test_y, rf_p3_pred)\n",
    "\n",
    "print(\"Accuracy: \" + str(rf_p3_acc))\n",
    "plt.hist(rf_p3_pred, alpha=0.5, label='predicted')\n",
    "plt.hist(periodData.test_y, alpha=0.5, label='actual')\n",
    "plt.legend(loc='best')\n",
    "plt.show()"
   ]
  },
  {
   "cell_type": "code",
   "execution_count": 174,
   "metadata": {},
   "outputs": [
    {
     "name": "stdout",
     "output_type": "stream",
     "text": [
      "OT samples: 3085\n",
      "Accuracy: 0.7124352331606217\n"
     ]
    },
    {
     "data": {
      "image/png": "[encoded data removed]",
      "text/plain": [
       "<Figure size 432x288 with 1 Axes>"
      ]
     },
     "metadata": {
      "needs_background": "light"
     },
     "output_type": "display_data"
    }
   ],
   "source": [
    "periodData.trainTestSplit(split=0.2, period=4)\n",
    "print(\"OT samples: \" + str(len(periodData.train_x)))\n",
    "rf_periodOT = RandomForestClassifier(max_depth=15, min_samples_split=10, n_estimators=150)\n",
    "rf_periodOT.fit(periodData.train_x, periodData.train_y)\n",
    "rf_pOT_pred = rf_periodOT.predict(periodData.test_x)\n",
    "rf_pOT_acc = accuracy_score(periodData.test_y, rf_pOT_pred)\n",
    "\n",
    "print(\"Accuracy: \" + str(rf_pOT_acc))\n",
    "plt.hist(rf_pOT_pred, alpha=0.5, label='predicted')\n",
    "plt.hist(periodData.test_y, alpha=0.5, label='actual')\n",
    "plt.legend(loc='best')\n",
    "plt.show()"
   ]
  }
 ],
 "metadata": {
  "kernelspec": {
   "display_name": "Python 3",
   "language": "python",
   "name": "python3"
  },
  "language_info": {
   "codemirror_mode": {
    "name": "ipython",
    "version": 3
   },
   "file_extension": ".py",
   "mimetype": "text/x-python",
   "name": "python",
   "nbconvert_exporter": "python",
   "pygments_lexer": "ipython3",
   "version": "3.7.4"
  }
 },
 "nbformat": 4,
 "nbformat_minor": 2
}
