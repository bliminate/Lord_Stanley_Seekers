{
 "cells": [
  {
   "cell_type": "code",
   "execution_count": 41,
   "metadata": {},
   "outputs": [],
   "source": [
    "import csv\n",
    "import numpy as np\n",
    "from sklearn import preprocessing\n",
    "from sklearn.feature_selection import SelectKBest\n",
    "from sklearn.compose import ColumnTransformer\n",
    "from sklearn.model_selection import train_test_split\n",
    "\n",
    "class NHL_Period_Data:\n",
    "    def __init__(self):\n",
    "        self.data_x, self.data_y = self.__parseData__()\n",
    "        \n",
    "    def __parseData__(self):\n",
    "        data = np.genfromtxt(\"data/periodStats.txt\", delimiter=\",\", dtype=int, skip_header=1)\n",
    "        return data[...,1:-2],data[...,-1]\n",
    "    \n",
    "    def transformData(self, encoder=\"StandardScaler\"):\n",
    "        col_tr = ColumnTransformer([(encoder, getattr(preprocessing,encoder)(), list(range(len(self.data_x[0]))))])\n",
    "        col_tr.fit(self.data_x, self.data_y)\n",
    "        self.data_x = col_tr.transform(self.data_x)\n",
    "        \n",
    "    def trainTestSplit(self, split=0.2):\n",
    "        self.train_x, self.test_x, self.train_y, self.test_y = train_test_split(self.data_x, self.data_y, test_size=split)\n",
    "        \n",
    "            "
   ]
  },
  {
   "cell_type": "code",
   "execution_count": 44,
   "metadata": {},
   "outputs": [
    {
     "name": "stdout",
     "output_type": "stream",
     "text": [
      "[ 0  7  6  9  5  4  6 15 11  3  4  2  0  6 10  4]\n",
      "[0.46666667 0.31818182 0.33333333 0.40909091 0.2173913  0.26666667\n",
      " 0.35294118 0.48387097 0.34375    0.2        0.21052632 0.08333333\n",
      " 0.         0.2        0.35714286 0.30769231]\n"
     ]
    }
   ],
   "source": [
    "data = NHL_Period_Data()\n",
    "print(data.data_x[0])\n",
    "data.transformData(\"MinMaxScaler\")\n",
    "print(data.data_x[0])\n",
    "data.trainTestSplit()"
   ]
  },
  {
   "cell_type": "code",
   "execution_count": null,
   "metadata": {},
   "outputs": [],
   "source": []
  }
 ],
 "metadata": {
  "kernelspec": {
   "display_name": "Python 3",
   "language": "python",
   "name": "python3"
  },
  "language_info": {
   "codemirror_mode": {
    "name": "ipython",
    "version": 3
   },
   "file_extension": ".py",
   "mimetype": "text/x-python",
   "name": "python",
   "nbconvert_exporter": "python",
   "pygments_lexer": "ipython3",
   "version": "3.7.4"
  }
 },
 "nbformat": 4,
 "nbformat_minor": 2
}
